{
  "cells": [
    {
      "cell_type": "code",
      "execution_count": null,
      "metadata": {
        "id": "gqRhUigWQ3Z6"
      },
      "outputs": [],
      "source": [
        "##Importar librerias\n",
        "import numpy as np\n",
        "import tensorflow as tf\n",
        "from tensorflow import keras\n",
        "import matplotlib.pyplot as plt\n",
        "from sklearn.model_selection import train_test_split\n",
        "from keras import layers, models\n",
        "from keras.callbacks import EarlyStopping\n",
        "import cv2\n",
        "import os"
      ]
    },
    {
      "cell_type": "code",
      "source": [
        "from google.colab import drive\n",
        "drive.mount('/content/drive')"
      ],
      "metadata": {
        "colab": {
          "base_uri": "https://localhost:8080/"
        },
        "id": "YWm6wlkrAKII",
        "outputId": "8c284290-dc01-489f-877b-1a0b84cb2399"
      },
      "execution_count": null,
      "outputs": [
        {
          "output_type": "stream",
          "name": "stdout",
          "text": [
            "Mounted at /content/drive\n"
          ]
        }
      ]
    },
    {
      "cell_type": "code",
      "execution_count": null,
      "metadata": {
        "id": "uBKqorE-R0PM"
      },
      "outputs": [],
      "source": [
        "# Semillas para reproducibilidad\n",
        "np.random.seed(42)\n",
        "tf.random.set_seed(42)"
      ]
    },
    {
      "cell_type": "code",
      "execution_count": null,
      "metadata": {
        "id": "D21gS1-R__xl"
      },
      "outputs": [],
      "source": [
        "'''\n",
        "import os\n",
        "import random\n",
        "\n",
        "# Ruta a la carpeta que contiene los archivos\n",
        "carpeta = '/content/drive/MyDrive/Figuras/geometric shapes dataset'\n",
        "\n",
        "# Obtener lista de todos los archivos (no carpetas)\n",
        "archivos = [f for f in os.listdir(carpeta) if os.path.isfile(os.path.join(carpeta, f))]\n",
        "\n",
        "# Verificar que haya suficientes archivos\n",
        "if len(archivos) < 1500:\n",
        "    print(f\"Solo hay {len(archivos)} archivos. No se pueden eliminar 4000.\")\n",
        "else:\n",
        "    # Seleccionar aleatoriamente 4000 archivos\n",
        "    archivos_a_eliminar = random.sample(archivos, 1500)\n",
        "\n",
        "    # Eliminar los archivos seleccionados\n",
        "    for archivo in archivos_a_eliminar:\n",
        "        ruta_completa = os.path.join(carpeta, archivo)\n",
        "        try:\n",
        "            os.remove(ruta_completa)\n",
        "            print(f\"Eliminado: {archivo}\")\n",
        "        except Exception as e:\n",
        "            print(f\"Error eliminando {archivo}: {e}\")\n"
      ]
    },
    {
      "cell_type": "code",
      "execution_count": null,
      "metadata": {
        "id": "m7KyUGQb-2ky"
      },
      "outputs": [],
      "source": [
        "# 📥 Cargar datos desde carpeta\n",
        "directorio_datos = \"/content/drive/MyDrive/Figuras/geometric shapes dataset\"\n",
        "X = []\n",
        "y = []\n",
        "clases = {'Circle': 0, 'Square': 1, 'Triangle': 2}"
      ]
    },
    {
      "cell_type": "code",
      "execution_count": null,
      "metadata": {
        "colab": {
          "base_uri": "https://localhost:8080/"
        },
        "id": "wyvD5q9d_Izt",
        "outputId": "7c25d7db-a584-4e8a-e0ff-b9a7d4c6796d",
        "scrolled": true
      },
      "outputs": [
        {
          "name": "stdout",
          "output_type": "stream",
          "text": [
            "Procesando carpeta: C:/Users/migue/Downloads/Figuras/Circle\n",
            "Procesando carpeta: C:/Users/migue/Downloads/Figuras/Square\n",
            "Procesando carpeta: C:/Users/migue/Downloads/Figuras/Triangle\n"
          ]
        }
      ],
      "source": [
        "for clase, etiqueta in clases.items():\n",
        "    carpeta = os.path.join(directorio_datos, clase)\n",
        "    if os.path.exists(carpeta):\n",
        "        print(f\"Procesando carpeta: {carpeta}\")\n",
        "\n",
        "        #  Contador de imágenes por carpeta\n",
        "        contador = 0\n",
        "\n",
        "        for archivo in os.listdir(carpeta):\n",
        "            if archivo.lower().endswith(('.png', '.jpg', '.jpeg')):\n",
        "                if contador >= 5000:\n",
        "                    break  #  Limitar a 5000 imágenes por clase\n",
        "\n",
        "                ruta = os.path.join(carpeta, archivo)\n",
        "                try:\n",
        "                    img = cv2.imread(ruta, cv2.IMREAD_GRAYSCALE)\n",
        "                    if img is None:\n",
        "                        raise ValueError(\"La imagen no se pudo cargar correctamente.\")\n",
        "\n",
        "                    img = cv2.resize(img, (200, 200))\n",
        "                    img = img.astype('float32') / 255.0\n",
        "                    img_array = img[..., np.newaxis]  # (200, 200, 1)\n",
        "\n",
        "                    X.append(img_array)\n",
        "                    y.append(etiqueta)\n",
        "                    contador += 1  #  Contar imagen válida\n",
        "                except Exception as e:\n",
        "                    print(f\"Error procesando {ruta}: {e}\")"
      ]
    },
    {
      "cell_type": "code",
      "execution_count": null,
      "metadata": {
        "colab": {
          "base_uri": "https://localhost:8080/"
        },
        "id": "P7N_ELFd_K3B",
        "outputId": "f00b6319-c02e-4f39-ea2b-5f65621f83e2"
      },
      "outputs": [
        {
          "name": "stdout",
          "output_type": "stream",
          "text": [
            "Total de imágenes cargadas: 15000\n",
            "['Circle', 'Square', 'Triangle']\n"
          ]
        }
      ],
      "source": [
        "# Convertir listas a arrays de numpy\n",
        "X = np.array(X, dtype='float32')\n",
        "y = np.array(y)\n",
        "print(f\"Total de imágenes cargadas: {len(X)}\")\n",
        "print(os.listdir(directorio_datos))"
      ]
    },
    {
      "cell_type": "code",
      "execution_count": null,
      "metadata": {
        "id": "DpGQ2nav_Mgy"
      },
      "outputs": [],
      "source": [
        "#  División de datos\n",
        "X_train, X_test, y_train, y_test = train_test_split(X, y, test_size=0.3, stratify=y, random_state=42)"
      ]
    },
    {
      "cell_type": "code",
      "execution_count": null,
      "metadata": {
        "id": "2zrokOZH_Ov1"
      },
      "outputs": [],
      "source": [
        "#  Definición del modelo\n",
        "model = models.Sequential([\n",
        "    layers.Conv2D(32, 3, activation='relu', input_shape=(200, 200, 1)),\n",
        "    layers.MaxPooling2D(2),\n",
        "\n",
        "    layers.Conv2D(64, 3, activation='relu'),\n",
        "    layers.MaxPooling2D(2),\n",
        "\n",
        "    layers.Flatten(),\n",
        "    layers.Dense(32, activation='relu'),\n",
        "    layers.Dropout(0.3),\n",
        "    layers.Dense(3, activation='softmax')\n",
        "])"
      ]
    },
    {
      "cell_type": "code",
      "execution_count": null,
      "metadata": {
        "id": "3h_sLOrG_QsN"
      },
      "outputs": [],
      "source": [
        "model.compile(optimizer='adam',\n",
        "              loss='sparse_categorical_crossentropy',\n",
        "              metrics=['accuracy'])"
      ]
    },
    {
      "cell_type": "code",
      "execution_count": null,
      "metadata": {
        "colab": {
          "base_uri": "https://localhost:8080/"
        },
        "id": "zR4Ry_1q_S4f",
        "outputId": "f76f5e04-3b88-409a-dff8-178dcdbc8789"
      },
      "outputs": [
        {
          "name": "stdout",
          "output_type": "stream",
          "text": [
            "Epoch 1/20\n",
            "\u001b[1m329/329\u001b[0m \u001b[32m━━━━━━━━━━━━━━━━━━━━\u001b[0m\u001b[37m\u001b[0m \u001b[1m126s\u001b[0m 382ms/step - accuracy: 0.4669 - loss: 1.0230\n",
            "Epoch 2/20\n",
            "\u001b[1m329/329\u001b[0m \u001b[32m━━━━━━━━━━━━━━━━━━━━\u001b[0m\u001b[37m\u001b[0m \u001b[1m128s\u001b[0m 390ms/step - accuracy: 0.5409 - loss: 0.9290\n",
            "Epoch 3/20\n",
            "\u001b[1m329/329\u001b[0m \u001b[32m━━━━━━━━━━━━━━━━━━━━\u001b[0m\u001b[37m\u001b[0m \u001b[1m133s\u001b[0m 403ms/step - accuracy: 0.5964 - loss: 0.8248\n",
            "Epoch 4/20\n",
            "\u001b[1m329/329\u001b[0m \u001b[32m━━━━━━━━━━━━━━━━━━━━\u001b[0m\u001b[37m\u001b[0m \u001b[1m120s\u001b[0m 364ms/step - accuracy: 0.6595 - loss: 0.7192\n",
            "Epoch 5/20\n",
            "\u001b[1m329/329\u001b[0m \u001b[32m━━━━━━━━━━━━━━━━━━━━\u001b[0m\u001b[37m\u001b[0m \u001b[1m118s\u001b[0m 358ms/step - accuracy: 0.7187 - loss: 0.6029\n",
            "Epoch 6/20\n",
            "\u001b[1m329/329\u001b[0m \u001b[32m━━━━━━━━━━━━━━━━━━━━\u001b[0m\u001b[37m\u001b[0m \u001b[1m123s\u001b[0m 374ms/step - accuracy: 0.7480 - loss: 0.5380\n",
            "Epoch 7/20\n",
            "\u001b[1m329/329\u001b[0m \u001b[32m━━━━━━━━━━━━━━━━━━━━\u001b[0m\u001b[37m\u001b[0m \u001b[1m124s\u001b[0m 376ms/step - accuracy: 0.7837 - loss: 0.4746\n",
            "Epoch 8/20\n",
            "\u001b[1m329/329\u001b[0m \u001b[32m━━━━━━━━━━━━━━━━━━━━\u001b[0m\u001b[37m\u001b[0m \u001b[1m128s\u001b[0m 388ms/step - accuracy: 0.8121 - loss: 0.4299\n",
            "Epoch 9/20\n",
            "\u001b[1m329/329\u001b[0m \u001b[32m━━━━━━━━━━━━━━━━━━━━\u001b[0m\u001b[37m\u001b[0m \u001b[1m121s\u001b[0m 366ms/step - accuracy: 0.8391 - loss: 0.3642\n",
            "Epoch 10/20\n",
            "\u001b[1m329/329\u001b[0m \u001b[32m━━━━━━━━━━━━━━━━━━━━\u001b[0m\u001b[37m\u001b[0m \u001b[1m118s\u001b[0m 358ms/step - accuracy: 0.8526 - loss: 0.3343\n",
            "Epoch 11/20\n",
            "\u001b[1m329/329\u001b[0m \u001b[32m━━━━━━━━━━━━━━━━━━━━\u001b[0m\u001b[37m\u001b[0m \u001b[1m117s\u001b[0m 354ms/step - accuracy: 0.8724 - loss: 0.3025\n",
            "Epoch 12/20\n",
            "\u001b[1m329/329\u001b[0m \u001b[32m━━━━━━━━━━━━━━━━━━━━\u001b[0m\u001b[37m\u001b[0m \u001b[1m116s\u001b[0m 351ms/step - accuracy: 0.8817 - loss: 0.2748\n",
            "Epoch 13/20\n",
            "\u001b[1m329/329\u001b[0m \u001b[32m━━━━━━━━━━━━━━━━━━━━\u001b[0m\u001b[37m\u001b[0m \u001b[1m109s\u001b[0m 332ms/step - accuracy: 0.8979 - loss: 0.2517\n",
            "Epoch 14/20\n",
            "\u001b[1m329/329\u001b[0m \u001b[32m━━━━━━━━━━━━━━━━━━━━\u001b[0m\u001b[37m\u001b[0m \u001b[1m113s\u001b[0m 343ms/step - accuracy: 0.8938 - loss: 0.2408\n",
            "Epoch 15/20\n",
            "\u001b[1m329/329\u001b[0m \u001b[32m━━━━━━━━━━━━━━━━━━━━\u001b[0m\u001b[37m\u001b[0m \u001b[1m110s\u001b[0m 334ms/step - accuracy: 0.9073 - loss: 0.2187\n",
            "Epoch 16/20\n",
            "\u001b[1m329/329\u001b[0m \u001b[32m━━━━━━━━━━━━━━━━━━━━\u001b[0m\u001b[37m\u001b[0m \u001b[1m109s\u001b[0m 332ms/step - accuracy: 0.9136 - loss: 0.2096\n",
            "Epoch 17/20\n",
            "\u001b[1m329/329\u001b[0m \u001b[32m━━━━━━━━━━━━━━━━━━━━\u001b[0m\u001b[37m\u001b[0m \u001b[1m109s\u001b[0m 332ms/step - accuracy: 0.9225 - loss: 0.2114\n",
            "Epoch 18/20\n",
            "\u001b[1m329/329\u001b[0m \u001b[32m━━━━━━━━━━━━━━━━━━━━\u001b[0m\u001b[37m\u001b[0m \u001b[1m110s\u001b[0m 335ms/step - accuracy: 0.9207 - loss: 0.1815\n",
            "Epoch 19/20\n",
            "\u001b[1m329/329\u001b[0m \u001b[32m━━━━━━━━━━━━━━━━━━━━\u001b[0m\u001b[37m\u001b[0m \u001b[1m107s\u001b[0m 326ms/step - accuracy: 0.9232 - loss: 0.1893\n",
            "Epoch 20/20\n",
            "\u001b[1m329/329\u001b[0m \u001b[32m━━━━━━━━━━━━━━━━━━━━\u001b[0m\u001b[37m\u001b[0m \u001b[1m111s\u001b[0m 337ms/step - accuracy: 0.9306 - loss: 0.1723\n"
          ]
        }
      ],
      "source": [
        "# Entrenamiento del modelo\n",
        "early_stop = EarlyStopping(monitor='loss', patience=5, restore_best_weights=True)\n",
        "\n",
        "history = model.fit(X_train, y_train,\n",
        "                    epochs=20,\n",
        "                    batch_size=32,\n",
        "                    verbose=1,\n",
        "                    callbacks=[early_stop])"
      ]
    },
    {
      "cell_type": "code",
      "execution_count": null,
      "metadata": {
        "colab": {
          "base_uri": "https://localhost:8080/",
          "height": 391
        },
        "id": "C5jrNcTV_WEG",
        "outputId": "51afd5f8-7014-4cc5-c77f-16b76e597f44"
      },
      "outputs": [
        {
          "data": {
            "image/png": "[encoded data removed]",
            "text/plain": [
              "<Figure size 1200x400 with 2 Axes>"
            ]
          },
          "metadata": {},
          "output_type": "display_data"
        }
      ],
      "source": [
        "# Gráficas de entrenamiento\n",
        "plt.figure(figsize=(12, 4))\n",
        "plt.subplot(1, 2, 1)\n",
        "plt.plot(history.history['loss'], label='Entrenamiento')\n",
        "plt.title('Pérdida')\n",
        "plt.legend()\n",
        "plt.subplot(1, 2, 2)\n",
        "plt.plot(history.history['accuracy'], label='Entrenamiento')\n",
        "plt.title('Precisión')\n",
        "plt.legend()\n",
        "plt.show()"
      ]
    },
    {
      "cell_type": "code",
      "execution_count": null,
      "metadata": {
        "colab": {
          "base_uri": "https://localhost:8080/"
        },
        "id": "78qTlSsa_aif",
        "outputId": "22be8d00-db10-4f81-ff4d-d33ac799ea9c"
      },
      "outputs": [
        {
          "name": "stdout",
          "output_type": "stream",
          "text": [
            "\u001b[1m141/141\u001b[0m \u001b[32m━━━━━━━━━━━━━━━━━━━━\u001b[0m\u001b[37m\u001b[0m \u001b[1m12s\u001b[0m 80ms/step - accuracy: 0.7162 - loss: 1.4692\n",
            "Precisión en prueba: 0.7300\n"
          ]
        }
      ],
      "source": [
        "# Evaluación en test\n",
        "test_loss, test_accuracy = model.evaluate(X_test, y_test)\n",
        "print(f\"Precisión en prueba: {test_accuracy:.4f}\")"
      ]
    },
    {
      "cell_type": "code",
      "execution_count": null,
      "metadata": {
        "id": "lLkRT571Q0--",
        "outputId": "bf3a8df6-bdb3-4927-bc5e-246f2c6f05ab"
      },
      "outputs": [
        {
          "name": "stderr",
          "output_type": "stream",
          "text": [
            "WARNING:absl:You are saving your model as an HDF5 file via `model.save()` or `keras.saving.save_model(model)`. This file format is considered legacy. We recommend using instead the native Keras format, e.g. `model.save('my_model.keras')` or `keras.saving.save_model(model, 'my_model.keras')`. \n"
          ]
        }
      ],
      "source": [
        "model.save('mi_modelo_completo.h5')\n",
        "model.save('mi_modelo_completo.keras')"
      ]
    }
  ],
  "metadata": {
    "colab": {
      "provenance": []
    },
    "kernelspec": {
      "display_name": "Python 3 (ipykernel)",
      "language": "python",
      "name": "python3"
    },
    "language_info": {
      "codemirror_mode": {
        "name": "ipython",
        "version": 3
      },
      "file_extension": ".py",
      "mimetype": "text/x-python",
      "name": "python",
      "nbconvert_exporter": "python",
      "pygments_lexer": "ipython3",
      "version": "3.12.7"
    }
  },
  "nbformat": 4,
  "nbformat_minor": 0
}